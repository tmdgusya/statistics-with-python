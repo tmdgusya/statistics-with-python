{
 "cells": [
  {
   "metadata": {
    "ExecuteTime": {
     "end_time": "2025-01-12T13:33:29.977514Z",
     "start_time": "2025-01-12T13:33:29.975167Z"
    }
   },
   "cell_type": "code",
   "source": [
    "import numpy as np\n",
    "\n",
    "x_list = [2, 4, 6, 1, 5, 7, 9, 8, 3]\n",
    "mean_x = np.mean(x_list)\n",
    "print(mean_x)"
   ],
   "id": "177a298ef2a55043",
   "outputs": [
    {
     "name": "stdout",
     "output_type": "stream",
     "text": [
      "5.0\n"
     ]
    }
   ],
   "execution_count": 1
  },
  {
   "cell_type": "code",
   "id": "initial_id",
   "metadata": {
    "collapsed": true,
    "ExecuteTime": {
     "end_time": "2025-01-12T13:35:48.358173Z",
     "start_time": "2025-01-12T13:35:48.354233Z"
    }
   },
   "source": [
    "def var(mean, x):\n",
    "    return (x - mean) ** 2"
   ],
   "outputs": [],
   "execution_count": 2
  },
  {
   "metadata": {
    "ExecuteTime": {
     "end_time": "2025-01-12T13:37:39.457129Z",
     "start_time": "2025-01-12T13:37:39.453257Z"
    }
   },
   "cell_type": "code",
   "source": [
    "var_list = map(lambda x: var(np.mean(x_list), x), x_list)\n",
    "list(var_list)"
   ],
   "id": "cd6a91db25c58a8d",
   "outputs": [
    {
     "data": {
      "text/plain": [
       "[np.float64(9.0),\n",
       " np.float64(1.0),\n",
       " np.float64(1.0),\n",
       " np.float64(16.0),\n",
       " np.float64(0.0),\n",
       " np.float64(4.0),\n",
       " np.float64(16.0),\n",
       " np.float64(9.0),\n",
       " np.float64(4.0)]"
      ]
     },
     "execution_count": 4,
     "metadata": {},
     "output_type": "execute_result"
    }
   ],
   "execution_count": 4
  }
 ],
 "metadata": {
  "kernelspec": {
   "display_name": "Python 3",
   "language": "python",
   "name": "python3"
  },
  "language_info": {
   "codemirror_mode": {
    "name": "ipython",
    "version": 2
   },
   "file_extension": ".py",
   "mimetype": "text/x-python",
   "name": "python",
   "nbconvert_exporter": "python",
   "pygments_lexer": "ipython2",
   "version": "2.7.6"
  }
 },
 "nbformat": 4,
 "nbformat_minor": 5
}
