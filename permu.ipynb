{
 "cells": [
  {
   "cell_type": "code",
   "id": "initial_id",
   "metadata": {
    "collapsed": true,
    "ExecuteTime": {
     "end_time": "2024-12-19T07:12:12.606599Z",
     "start_time": "2024-12-19T07:12:12.603704Z"
    }
   },
   "source": [
    "from itertools import permutations\n",
    "\n",
    "arr = ['A', 'B', 'C']\n",
    "result = list(permutations(arr, 2)) # 3P2\n",
    "print(result)"
   ],
   "outputs": [
    {
     "name": "stdout",
     "output_type": "stream",
     "text": [
      "[('A', 'B'), ('A', 'C'), ('B', 'A'), ('B', 'C'), ('C', 'A'), ('C', 'B')]\n"
     ]
    }
   ],
   "execution_count": 2
  },
  {
   "metadata": {
    "ExecuteTime": {
     "end_time": "2024-12-19T07:15:54.913351Z",
     "start_time": "2024-12-19T07:15:54.910755Z"
    }
   },
   "cell_type": "code",
   "source": [
    "from itertools import combinations\n",
    "arr = ['A', 'B', 'C']\n",
    "result = list(combinations(arr, 2))\n",
    "print(result)"
   ],
   "id": "728a7dcc6c872a2d",
   "outputs": [
    {
     "name": "stdout",
     "output_type": "stream",
     "text": [
      "[('A', 'B'), ('A', 'C'), ('B', 'C')]\n"
     ]
    }
   ],
   "execution_count": 4
  },
  {
   "metadata": {
    "ExecuteTime": {
     "end_time": "2024-12-19T07:20:49.279481Z",
     "start_time": "2024-12-19T07:20:49.275770Z"
    }
   },
   "cell_type": "code",
   "source": [
    "from itertools import product\n",
    "arr = ['A', 'B', 'C']\n",
    "result = list(product(arr, repeat=2))\n",
    "product(result)"
   ],
   "id": "e380a0b403057af5",
   "outputs": [
    {
     "data": {
      "text/plain": [
       "<itertools.product at 0x10ad53d40>"
      ]
     },
     "execution_count": 8,
     "metadata": {},
     "output_type": "execute_result"
    }
   ],
   "execution_count": 8
  },
  {
   "metadata": {
    "ExecuteTime": {
     "end_time": "2024-12-19T07:25:31.790994Z",
     "start_time": "2024-12-19T07:25:31.787650Z"
    }
   },
   "cell_type": "code",
   "source": [
    "from itertools import combinations_with_replacement\n",
    "arr = ['A', 'B', 'C']\n",
    "result = list(combinations_with_replacement(arr, 2))\n",
    "print(result)"
   ],
   "id": "4d9bec89c6cfe3a7",
   "outputs": [
    {
     "name": "stdout",
     "output_type": "stream",
     "text": [
      "[('A', 'A'), ('A', 'B'), ('A', 'C'), ('B', 'B'), ('B', 'C'), ('C', 'C')]\n"
     ]
    }
   ],
   "execution_count": 10
  },
  {
   "metadata": {},
   "cell_type": "code",
   "outputs": [],
   "execution_count": null,
   "source": "",
   "id": "9015360708746206"
  }
 ],
 "metadata": {
  "kernelspec": {
   "display_name": "Python 3",
   "language": "python",
   "name": "python3"
  },
  "language_info": {
   "codemirror_mode": {
    "name": "ipython",
    "version": 2
   },
   "file_extension": ".py",
   "mimetype": "text/x-python",
   "name": "python",
   "nbconvert_exporter": "python",
   "pygments_lexer": "ipython2",
   "version": "2.7.6"
  }
 },
 "nbformat": 4,
 "nbformat_minor": 5
}
