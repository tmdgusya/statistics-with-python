{
 "cells": [
  {
   "metadata": {
    "ExecuteTime": {
     "end_time": "2024-12-18T12:39:24.401405Z",
     "start_time": "2024-12-18T12:39:24.399320Z"
    }
   },
   "cell_type": "code",
   "source": [
    "data = [1, 3, 3, 2, 3, 4, 2, 4, 5, 3]\n",
    "\n",
    "keys = list(set(data))\n",
    "print(keys)"
   ],
   "id": "e2cc2972de83adfc",
   "outputs": [
    {
     "name": "stdout",
     "output_type": "stream",
     "text": [
      "[1, 2, 3, 4, 5]\n"
     ]
    }
   ],
   "execution_count": 1
  },
  {
   "cell_type": "code",
   "id": "initial_id",
   "metadata": {
    "collapsed": true,
    "ExecuteTime": {
     "end_time": "2024-12-18T12:40:03.508270Z",
     "start_time": "2024-12-18T12:40:03.505646Z"
    }
   },
   "source": [
    "data_freq = {}\n",
    "for key in keys:\n",
    "    data_freq[key] = 0\n",
    "print(data_freq)"
   ],
   "outputs": [
    {
     "name": "stdout",
     "output_type": "stream",
     "text": [
      "{1: 0, 2: 0, 3: 0, 4: 0, 5: 0}\n"
     ]
    }
   ],
   "execution_count": 2
  },
  {
   "metadata": {
    "ExecuteTime": {
     "end_time": "2024-12-18T12:40:18.951218Z",
     "start_time": "2024-12-18T12:40:18.948420Z"
    }
   },
   "cell_type": "code",
   "source": [
    "for value in data:\n",
    "    data_freq[value] += 1\n",
    "print(data_freq)"
   ],
   "id": "a54cdab254124cdd",
   "outputs": [
    {
     "name": "stdout",
     "output_type": "stream",
     "text": [
      "{1: 1, 2: 2, 3: 4, 4: 2, 5: 1}\n"
     ]
    }
   ],
   "execution_count": 3
  },
  {
   "metadata": {
    "ExecuteTime": {
     "end_time": "2024-12-18T12:40:58.283639Z",
     "start_time": "2024-12-18T12:40:58.281146Z"
    }
   },
   "cell_type": "code",
   "source": [
    "def count_frequency(data):\n",
    "    data_freq = {}\n",
    "    keys = list(set(data))\n",
    "    keys.sort()\n",
    "    for key in keys:\n",
    "        data_freq[key] = 0\n",
    "    for value in data:\n",
    "        data_freq[value] += 1\n",
    "    return data_freq"
   ],
   "id": "f4fbfc6c5711e4f7",
   "outputs": [],
   "execution_count": 4
  },
  {
   "metadata": {
    "ExecuteTime": {
     "end_time": "2024-12-18T12:41:27.228156Z",
     "start_time": "2024-12-18T12:41:27.225892Z"
    }
   },
   "cell_type": "code",
   "source": [
    "data = [1, 3, 3, 2, 3, 4, 2, 4, 5, 3]\n",
    "data_freq = count_frequency(data)\n",
    "print(data_freq)"
   ],
   "id": "3368e29e249fa8bd",
   "outputs": [
    {
     "name": "stdout",
     "output_type": "stream",
     "text": [
      "{1: 1, 2: 2, 3: 4, 4: 2, 5: 1}\n"
     ]
    }
   ],
   "execution_count": 5
  },
  {
   "metadata": {
    "ExecuteTime": {
     "end_time": "2024-12-18T12:42:14.080535Z",
     "start_time": "2024-12-18T12:42:14.078225Z"
    }
   },
   "cell_type": "code",
   "source": [
    "def freq2ratio(dic):\n",
    "    n = sum(dic.values())\n",
    "    res = {}\n",
    "    for key in dic.keys():\n",
    "        val = dic[key]\n",
    "        res[key] = val / n # ratio\n",
    "    return res"
   ],
   "id": "e6862f18657019ef",
   "outputs": [],
   "execution_count": 6
  },
  {
   "metadata": {
    "ExecuteTime": {
     "end_time": "2024-12-18T12:42:34.954052Z",
     "start_time": "2024-12-18T12:42:34.952242Z"
    }
   },
   "cell_type": "code",
   "source": [
    "data_ratio = freq2ratio(count_frequency(data))\n",
    "print(data_ratio)"
   ],
   "id": "74ac7de8f1640704",
   "outputs": [
    {
     "name": "stdout",
     "output_type": "stream",
     "text": [
      "{1: 0.1, 2: 0.2, 3: 0.4, 4: 0.2, 5: 0.1}\n"
     ]
    }
   ],
   "execution_count": 7
  },
  {
   "metadata": {
    "ExecuteTime": {
     "end_time": "2024-12-18T12:43:12.811401Z",
     "start_time": "2024-12-18T12:43:12.713722Z"
    }
   },
   "cell_type": "code",
   "source": [
    "import matplotlib.pyplot as plt\n",
    "\n",
    "plt.hist(data, bins=len(keys), color='green')\n",
    "plt.show()"
   ],
   "id": "f8e5d8925a1e2dac",
   "outputs": [
    {
     "data": {
      "text/plain": [
       "<Figure size 640x480 with 1 Axes>"
      ],
      "image/png": "[encoded data removed]"
     },
     "metadata": {},
     "output_type": "display_data"
    }
   ],
   "execution_count": 8
  },
  {
   "metadata": {},
   "cell_type": "code",
   "outputs": [],
   "execution_count": null,
   "source": "",
   "id": "f98fa4ecb45f1a59"
  }
 ],
 "metadata": {
  "kernelspec": {
   "display_name": "Python 3",
   "language": "python",
   "name": "python3"
  },
  "language_info": {
   "codemirror_mode": {
    "name": "ipython",
    "version": 2
   },
   "file_extension": ".py",
   "mimetype": "text/x-python",
   "name": "python",
   "nbconvert_exporter": "python",
   "pygments_lexer": "ipython2",
   "version": "2.7.6"
  }
 },
 "nbformat": 4,
 "nbformat_minor": 5
}
