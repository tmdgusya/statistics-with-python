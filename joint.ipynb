{
 "cells": [
  {
   "cell_type": "code",
   "id": "initial_id",
   "metadata": {
    "collapsed": true,
    "ExecuteTime": {
     "end_time": "2024-12-25T10:57:17.341646Z",
     "start_time": "2024-12-25T10:57:17.335500Z"
    }
   },
   "source": [
    "import pandas as pd\n",
    "\n",
    "score = [1,2,3,4,5]\n",
    "data = [\n",
    "    [2,1,0,0,0],\n",
    "    [1,3,4,0,0],\n",
    "    [1,3,5,2,0],\n",
    "    [0,0,0,3,2],\n",
    "    [0,0,0,1,2],\n",
    "]\n",
    "\n",
    "df = pd.DataFrame(data, index=score, columns=score)\n",
    "df.columns.name = \"X\"\n",
    "df.index.name = \"Y\"\n",
    "\n",
    "pmf = df / df.values.sum()\n",
    "\n",
    "print(pmf)"
   ],
   "outputs": [
    {
     "name": "stdout",
     "output_type": "stream",
     "text": [
      "X         1         2         3         4         5\n",
      "Y                                                  \n",
      "1  0.066667  0.033333  0.000000  0.000000  0.000000\n",
      "2  0.033333  0.100000  0.133333  0.000000  0.000000\n",
      "3  0.033333  0.100000  0.166667  0.066667  0.000000\n",
      "4  0.000000  0.000000  0.000000  0.100000  0.066667\n",
      "5  0.000000  0.000000  0.000000  0.033333  0.066667\n"
     ]
    }
   ],
   "execution_count": 1
  }
 ],
 "metadata": {
  "kernelspec": {
   "display_name": "Python 3",
   "language": "python",
   "name": "python3"
  },
  "language_info": {
   "codemirror_mode": {
    "name": "ipython",
    "version": 2
   },
   "file_extension": ".py",
   "mimetype": "text/x-python",
   "name": "python",
   "nbconvert_exporter": "python",
   "pygments_lexer": "ipython2",
   "version": "2.7.6"
  }
 },
 "nbformat": 4,
 "nbformat_minor": 5
}
