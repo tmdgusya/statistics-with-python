{
 "cells": [
  {
   "cell_type": "code",
   "execution_count": 2,
   "id": "ca6e3f1f-1236-48df-8535-e9bd484701ce",
   "metadata": {},
   "outputs": [],
   "source": [
    "import pandas as pd\n",
    "import numpy as np"
   ]
  },
  {
   "cell_type": "code",
   "execution_count": 3,
   "id": "66209bcf-97bb-4a7a-a265-936d23328192",
   "metadata": {},
   "outputs": [
    {
     "name": "stdout",
     "output_type": "stream",
     "text": [
      "   col  col2 col3\n",
      "0    1     2    A\n",
      "1    2     4    B\n",
      "2    3     6    C\n",
      "3    4     8    D\n",
      "4    5    10    E\n"
     ]
    }
   ],
   "source": [
    "sample_array = np.array([1,2,3,4,5])\n",
    "\n",
    "sample_df = pd.DataFrame({\n",
    "    'col' : sample_array,\n",
    "    'col2' : sample_array * 2, # 상수배\n",
    "    'col3' : ['A', 'B', 'C', 'D', 'E']\n",
    "})\n",
    "print(sample_df)"
   ]
  },
  {
   "cell_type": "code",
   "execution_count": 6,
   "id": "760db6ab-c4cd-4222-ae72-a7dae357b9c8",
   "metadata": {},
   "outputs": [
    {
     "name": "stdout",
     "output_type": "stream",
     "text": [
      "   col1 col2\n",
      "0     1    A\n",
      "1     2    B\n",
      "2     3    C\n",
      "0     4    D\n",
      "1     5    E\n",
      "2     6    F\n"
     ]
    }
   ],
   "source": [
    "df_1 = pd.DataFrame({\n",
    "    'col1': np.array([1,2,3]),\n",
    "    'col2': np.array(['A', 'B', 'C'])\n",
    "})\n",
    "\n",
    "df_2 = pd.DataFrame({\n",
    "    'col1': np.array([4,5,6]),\n",
    "    'col2': np.array(['D', 'E', 'F'])\n",
    "})\n",
    "\n",
    "print(pd.concat([df_1, df_2]))"
   ]
  },
  {
   "cell_type": "code",
   "execution_count": 8,
   "id": "b73f64e8-b2be-4be1-99e2-2fbf5e3138f2",
   "metadata": {},
   "outputs": [
    {
     "name": "stdout",
     "output_type": "stream",
     "text": [
      "   col1 col2  col1 col2\n",
      "0     1    A     4    D\n",
      "1     2    B     5    E\n",
      "2     3    C     6    F\n"
     ]
    }
   ],
   "source": [
    "print(pd.concat([df_1, df_2], axis=1))"
   ]
  },
  {
   "cell_type": "code",
   "execution_count": 9,
   "id": "9acc6a57-1d48-4b74-aee0-1f4aa1908ae7",
   "metadata": {},
   "outputs": [
    {
     "name": "stdout",
     "output_type": "stream",
     "text": [
      "   col1 col2\n",
      "0     1    A\n",
      "1     2    B\n",
      "2     3    C\n",
      "0     4    D\n",
      "1     5    E\n",
      "2     6    F\n"
     ]
    }
   ],
   "source": [
    "print(pd.concat([df_1, df_2], axis=0))"
   ]
  },
  {
   "cell_type": "code",
   "execution_count": 11,
   "id": "4b248876-1233-4cf5-b478-c72e3e650fb5",
   "metadata": {},
   "outputs": [
    {
     "name": "stdout",
     "output_type": "stream",
     "text": [
      "   col1 col2\n",
      "0     1    A\n"
     ]
    }
   ],
   "source": [
    "print(df_1.query('col2 == \"A\" & col1 == 1'))"
   ]
  }
 ],
 "metadata": {
  "kernelspec": {
   "display_name": "Python 3 (ipykernel)",
   "language": "python",
   "name": "python3"
  },
  "language_info": {
   "codemirror_mode": {
    "name": "ipython",
    "version": 3
   },
   "file_extension": ".py",
   "mimetype": "text/x-python",
   "name": "python",
   "nbconvert_exporter": "python",
   "pygments_lexer": "ipython3",
   "version": "3.13.0"
  }
 },
 "nbformat": 4,
 "nbformat_minor": 5
}
