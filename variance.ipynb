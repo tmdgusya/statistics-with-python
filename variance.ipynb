{
 "cells": [
  {
   "cell_type": "code",
   "id": "initial_id",
   "metadata": {
    "collapsed": true,
    "ExecuteTime": {
     "end_time": "2024-12-25T16:16:45.144821Z",
     "start_time": "2024-12-25T16:16:45.142060Z"
    }
   },
   "source": [
    "import math\n",
    "\n",
    "arr = [56, 93, 88, 72, 65]\n",
    "\n",
    "mean = 0\n",
    "for x in arr:\n",
    "    mean += x / len(arr)\n",
    "\n",
    "variance = 0\n",
    "for x in arr:\n",
    "    variance += (x - mean) ** 2 / len(arr)\n",
    "\n",
    "standard_deviation = math.sqrt(variance)\n",
    "\n",
    "print(f\"mean = {mean}\")\n",
    "print(f\"variance = {variance}\")\n",
    "print(f\"Standard Deviation: {standard_deviation}\")"
   ],
   "outputs": [
    {
     "name": "stdout",
     "output_type": "stream",
     "text": [
      "mean = 74.80000000000001\n",
      "variance = 192.56\n",
      "Standard Deviation: 13.876599006961325\n"
     ]
    }
   ],
   "execution_count": 1
  }
 ],
 "metadata": {
  "kernelspec": {
   "display_name": "Python 3",
   "language": "python",
   "name": "python3"
  },
  "language_info": {
   "codemirror_mode": {
    "name": "ipython",
    "version": 2
   },
   "file_extension": ".py",
   "mimetype": "text/x-python",
   "name": "python",
   "nbconvert_exporter": "python",
   "pygments_lexer": "ipython2",
   "version": "2.7.6"
  }
 },
 "nbformat": 4,
 "nbformat_minor": 5
}
