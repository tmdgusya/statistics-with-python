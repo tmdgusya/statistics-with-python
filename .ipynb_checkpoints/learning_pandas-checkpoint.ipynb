{
 "cells": [
  {
   "cell_type": "code",
   "execution_count": 2,
   "id": "ca6e3f1f-1236-48df-8535-e9bd484701ce",
   "metadata": {},
   "outputs": [],
   "source": [
    "import pandas as pd\n",
    "import numpy as np"
   ]
  },
  {
   "cell_type": "code",
   "execution_count": 3,
   "id": "66209bcf-97bb-4a7a-a265-936d23328192",
   "metadata": {},
   "outputs": [
    {
     "name": "stdout",
     "output_type": "stream",
     "text": [
      "   col  col2 col3\n",
      "0    1     2    A\n",
      "1    2     4    B\n",
      "2    3     6    C\n",
      "3    4     8    D\n",
      "4    5    10    E\n"
     ]
    }
   ],
   "source": [
    "sample_array = np.array([1,2,3,4,5])\n",
    "\n",
    "sample_df = pd.DataFrame({\n",
    "    'col' : sample_array,\n",
    "    'col2' : sample_array * 2, # 상수배\n",
    "    'col3' : ['A', 'B', 'C', 'D', 'E']\n",
    "})\n",
    "print(sample_df)"
   ]
  }
 ],
 "metadata": {
  "kernelspec": {
   "display_name": "Python 3 (ipykernel)",
   "language": "python",
   "name": "python3"
  },
  "language_info": {
   "codemirror_mode": {
    "name": "ipython",
    "version": 3
   },
   "file_extension": ".py",
   "mimetype": "text/x-python",
   "name": "python",
   "nbconvert_exporter": "python",
   "pygments_lexer": "ipython3",
   "version": "3.13.0"
  }
 },
 "nbformat": 4,
 "nbformat_minor": 5
}
