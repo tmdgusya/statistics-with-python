{
 "cells": [
  {
   "metadata": {
    "ExecuteTime": {
     "end_time": "2024-12-15T22:04:12.063928Z",
     "start_time": "2024-12-15T22:04:05.636997Z"
    }
   },
   "cell_type": "code",
   "source": [
    "import numpy as np\n",
    "import pandas as pd"
   ],
   "id": "40d01d346a26aba",
   "outputs": [],
   "execution_count": 1
  },
  {
   "metadata": {
    "ExecuteTime": {
     "end_time": "2024-12-15T22:08:08.849583Z",
     "start_time": "2024-12-15T22:08:08.844326Z"
    }
   },
   "cell_type": "code",
   "source": [
    "category_data = pd.read_csv('data/3-3-1-fish-species.csv')\n",
    "print(category_data)"
   ],
   "id": "5554cada047f9642",
   "outputs": [
    {
     "name": "stdout",
     "output_type": "stream",
     "text": [
      "  species\n",
      "0       A\n",
      "1       A\n",
      "2       A\n",
      "3       B\n",
      "4       B\n",
      "5       B\n",
      "6       B\n",
      "7       B\n",
      "8       B\n",
      "9       B\n"
     ]
    }
   ],
   "execution_count": 6
  },
  {
   "metadata": {
    "ExecuteTime": {
     "end_time": "2024-12-15T22:08:14.135315Z",
     "start_time": "2024-12-15T22:08:14.130826Z"
    }
   },
   "cell_type": "code",
   "source": "category_data.species.value_counts(sort=False) # 도수 분포",
   "id": "b52847e8e5029444",
   "outputs": [
    {
     "data": {
      "text/plain": [
       "species\n",
       "A    3\n",
       "B    7\n",
       "Name: count, dtype: int64"
      ]
     },
     "execution_count": 8,
     "metadata": {},
     "output_type": "execute_result"
    }
   ],
   "execution_count": 8
  },
  {
   "metadata": {
    "ExecuteTime": {
     "end_time": "2024-12-15T22:09:28.814146Z",
     "start_time": "2024-12-15T22:09:28.809531Z"
    }
   },
   "cell_type": "code",
   "source": [
    "numeric_data = pd.read_csv('data/3-3-2-fish-length.csv')\n",
    "print(numeric_data)"
   ],
   "id": "44d4926a46c2250",
   "outputs": [
    {
     "name": "stdout",
     "output_type": "stream",
     "text": [
      "   length\n",
      "0    1.91\n",
      "1    1.21\n",
      "2    2.28\n",
      "3    1.01\n",
      "4    1.00\n",
      "5    4.50\n",
      "6    1.96\n",
      "7    0.72\n",
      "8    3.67\n",
      "9    2.55\n"
     ]
    }
   ],
   "execution_count": 9
  },
  {
   "metadata": {
    "ExecuteTime": {
     "end_time": "2024-12-15T22:10:06.493664Z",
     "start_time": "2024-12-15T22:10:06.485839Z"
    }
   },
   "cell_type": "code",
   "source": "numeric_data.length.value_counts(bins=3) # 데이터를 3부분으로 구분하여 도수를 구함 (rank 화)",
   "id": "bea8dad52f1bf68",
   "outputs": [
    {
     "data": {
      "text/plain": [
       "(0.715, 1.98]    6\n",
       "(1.98, 3.24]     2\n",
       "(3.24, 4.5]      2\n",
       "Name: count, dtype: int64"
      ]
     },
     "execution_count": 10,
     "metadata": {},
     "output_type": "execute_result"
    }
   ],
   "execution_count": 10
  },
  {
   "metadata": {
    "ExecuteTime": {
     "end_time": "2024-12-15T22:11:40.347063Z",
     "start_time": "2024-12-15T22:11:40.341395Z"
    }
   },
   "cell_type": "code",
   "source": [
    "freq = numeric_data.length.value_counts(\n",
    "    bins=np.arange(0, 6, 1), sort=False\n",
    ")\n",
    "freq"
   ],
   "id": "38958304649724f6",
   "outputs": [
    {
     "data": {
      "text/plain": [
       "(-0.001, 1.0]    2\n",
       "(1.0, 2.0]       4\n",
       "(2.0, 3.0]       2\n",
       "(3.0, 4.0]       1\n",
       "(4.0, 5.0]       1\n",
       "Name: count, dtype: int64"
      ]
     },
     "execution_count": 11,
     "metadata": {},
     "output_type": "execute_result"
    }
   ],
   "execution_count": 11
  },
  {
   "metadata": {
    "ExecuteTime": {
     "end_time": "2024-12-15T22:12:25.662454Z",
     "start_time": "2024-12-15T22:12:25.659726Z"
    }
   },
   "cell_type": "code",
   "source": "np.histogram(numeric_data.length, bins=3) # output : (각 구간별 도수, 각 구간별 상한/하한)",
   "id": "457d287833b3c562",
   "outputs": [
    {
     "data": {
      "text/plain": [
       "(array([6, 2, 2]), array([0.72, 1.98, 3.24, 4.5 ]))"
      ]
     },
     "execution_count": 13,
     "metadata": {},
     "output_type": "execute_result"
    }
   ],
   "execution_count": 13
  },
  {
   "metadata": {
    "ExecuteTime": {
     "end_time": "2024-12-15T22:16:17.674794Z",
     "start_time": "2024-12-15T22:16:17.672199Z"
    }
   },
   "cell_type": "code",
   "source": [
    "rel_freq = freq / sum(freq)\n",
    "rel_freq # 구간별 상대도수분포를 구할수 있음"
   ],
   "id": "6c66e98ac3e07c5",
   "outputs": [
    {
     "data": {
      "text/plain": [
       "10"
      ]
     },
     "execution_count": 15,
     "metadata": {},
     "output_type": "execute_result"
    }
   ],
   "execution_count": 15
  },
  {
   "metadata": {
    "ExecuteTime": {
     "end_time": "2024-12-15T22:17:23.769673Z",
     "start_time": "2024-12-15T22:17:23.765210Z"
    }
   },
   "cell_type": "code",
   "source": "numeric_data.length.value_counts(bins=np.arange(0,6,1), sort=False, normalize=True) # same as rel_freq",
   "id": "593d68c7ee4a5cb3",
   "outputs": [
    {
     "data": {
      "text/plain": [
       "(-0.001, 1.0]    0.2\n",
       "(1.0, 2.0]       0.4\n",
       "(2.0, 3.0]       0.2\n",
       "(3.0, 4.0]       0.1\n",
       "(4.0, 5.0]       0.1\n",
       "Name: proportion, dtype: float64"
      ]
     },
     "execution_count": 17,
     "metadata": {},
     "output_type": "execute_result"
    }
   ],
   "execution_count": 17
  },
  {
   "metadata": {
    "ExecuteTime": {
     "end_time": "2024-12-15T22:18:05.884503Z",
     "start_time": "2024-12-15T22:18:05.881651Z"
    }
   },
   "cell_type": "code",
   "source": "np.histogram(numeric_data.length, bins=np.arange(0,6,1), density=True)",
   "id": "2747c8461d5010d3",
   "outputs": [
    {
     "data": {
      "text/plain": [
       "(array([0.1, 0.5, 0.2, 0.1, 0.1]), array([0, 1, 2, 3, 4, 5]))"
      ]
     },
     "execution_count": 18,
     "metadata": {},
     "output_type": "execute_result"
    }
   ],
   "execution_count": 18
  },
  {
   "metadata": {
    "ExecuteTime": {
     "end_time": "2024-12-15T22:18:46.509601Z",
     "start_time": "2024-12-15T22:18:46.505942Z"
    }
   },
   "cell_type": "code",
   "source": "freq.cumsum() # 누적 도수 분포",
   "id": "4febe32cd4b4bef5",
   "outputs": [
    {
     "data": {
      "text/plain": [
       "(-0.001, 1.0]     2\n",
       "(1.0, 2.0]        6\n",
       "(2.0, 3.0]        8\n",
       "(3.0, 4.0]        9\n",
       "(4.0, 5.0]       10\n",
       "Name: count, dtype: int64"
      ]
     },
     "execution_count": 19,
     "metadata": {},
     "output_type": "execute_result"
    }
   ],
   "execution_count": 19
  },
  {
   "metadata": {
    "ExecuteTime": {
     "end_time": "2024-12-15T22:23:28.631092Z",
     "start_time": "2024-12-15T22:23:27.538760Z"
    }
   },
   "cell_type": "code",
   "source": [
    "from matplotlib import pyplot as plt\n",
    "import seaborn as sns\n",
    "sns.set_theme()"
   ],
   "id": "fd16e1a2bb672808",
   "outputs": [],
   "execution_count": 21
  },
  {
   "metadata": {
    "ExecuteTime": {
     "end_time": "2024-12-15T22:25:07.391841Z",
     "start_time": "2024-12-15T22:25:07.323391Z"
    }
   },
   "cell_type": "code",
   "source": "sns.histplot(x='length', data=numeric_data, color='blue', bins=np.arange(0,6,1))",
   "id": "86e3d3e218b10f44",
   "outputs": [
    {
     "data": {
      "text/plain": [
       "<Axes: xlabel='length', ylabel='Count'>"
      ]
     },
     "execution_count": 23,
     "metadata": {},
     "output_type": "execute_result"
    },
    {
     "data": {
      "text/plain": [
       "<Figure size 640x480 with 1 Axes>"
      ],
      "image/png": "[encoded data removed]"
     },
     "metadata": {},
     "output_type": "display_data"
    }
   ],
   "execution_count": 23
  },
  {
   "metadata": {
    "ExecuteTime": {
     "end_time": "2024-12-15T22:27:56.388728Z",
     "start_time": "2024-12-15T22:27:56.380812Z"
    }
   },
   "cell_type": "code",
   "source": "np.histogram(numeric_data.length, bins=np.array([0,1,2,5]), density=True)",
   "id": "67ac8b4553586e83",
   "outputs": [
    {
     "data": {
      "text/plain": [
       "(array([0.1       , 0.5       , 0.13333333]), array([0, 1, 2, 5]))"
      ]
     },
     "execution_count": 24,
     "metadata": {},
     "output_type": "execute_result"
    }
   ],
   "execution_count": 24
  },
  {
   "metadata": {
    "ExecuteTime": {
     "end_time": "2024-12-15T22:29:12.336934Z",
     "start_time": "2024-12-15T22:29:12.254583Z"
    }
   },
   "cell_type": "code",
   "source": "sns.histplot(x='length', data=numeric_data, color='blue', bins=np.array([0,1,2,5]), stat='density') # 3 * 0.13333 ~= 40%",
   "id": "7790a414685a2361",
   "outputs": [
    {
     "data": {
      "text/plain": [
       "<Axes: xlabel='length', ylabel='Density'>"
      ]
     },
     "execution_count": 26,
     "metadata": {},
     "output_type": "execute_result"
    },
    {
     "data": {
      "text/plain": [
       "<Figure size 640x480 with 1 Axes>"
      ],
      "image/png": "[encoded data removed]"
     },
     "metadata": {},
     "output_type": "display_data"
    }
   ],
   "execution_count": 26
  },
  {
   "metadata": {},
   "cell_type": "code",
   "outputs": [],
   "execution_count": null,
   "source": "",
   "id": "b81b9a045ef08f30"
  }
 ],
 "metadata": {
  "kernelspec": {
   "name": "python3",
   "language": "python",
   "display_name": "Python 3 (ipykernel)"
  }
 },
 "nbformat": 5,
 "nbformat_minor": 9
}
